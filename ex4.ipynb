{
 "cells": [
  
 {
   "cell_type": "code",
   "execution_count": null,
   "metadata": {},
   "outputs": [],
   "source": [
    "# กรุณารันเซลล์นี้หากคุณใช้งาน Google Colab เพื่อทำข้อสอบ\n",
    "!pip install -U pip\n",
    "!pip install -U datascience ipytest rich\n",
    "!wget https://raw.githubusercontent.com/ai-builders/entrance-exam-2022/main/sportsday.csv"
   ]
  },
  {
   "cell_type": "code",
   "execution_count": null,
   "metadata": {
    "tags": []
   },
   "outputs": [],
   "source": [
    "# กรุณารันเซลลืนี้ โดยไม่ต้องแก้ไขโค้ดใด ๆ ทั้งสิ้น\n",
    "from __future__ import annotations\n",
    "\n",
    "import math\n",
    "\n",
    "import ipytest\n",
    "import numpy as np\n",
    "import pandas as pd\n",
    "from pytest import approx\n",
    "\n",
    "ipytest.autoconfig()"
   ]
  },  
  

  {
   "cell_type": "markdown",
   "metadata": {
    "tags": []
   },
   "source": [
    "# แบบฝึกหัดที่ 1\n",
    "\n",
    "จงเขียนโปรแกรม python โดยแปลงค่าจาก Km เป็น Mile โดยก าหนดให้ 1 Km เท่ากับ 0.621371 Mile\n",
  "\n",
    " Enter the value in kilometers : 1\n",
  "\n",
    " The entered value in Miles: 0.621371"
   ]
  },
  {
   "cell_type": "code",
   "execution_count": null,
   "metadata": {},
   "outputs": [],
   "source": [
   "\n",
    "    # เขียนโค้ดของคุณตรงนี้\n",
    "    ..."
   ]
  },
 
 
  {
   "cell_type": "markdown",
   "metadata": {
    "tags": []
   },
   "source": [
    "# แบบฝึกหัดที่ 2\n",
    "\n",
    "จงเขียนโปรแกรม python โดยกรอกข้อมูลตัวเลข 3 ค่า แล้วหแสดงผลค่าที่มีน้อยที่สุด\n",
  "\n",
  "Enter 1st number: 100\n",
  "\n",
  "Enter 2nd number: 50\n",
  "\n",
  "Enter 3rd number: 250\n",
  "\n",
  "The smallest number among 100 , 50 and 250 is: 50"
   ]
  },
  {
   "cell_type": "code",
   "execution_count": null,
   "metadata": {},
   "outputs": [],
   "source": [
   "\n",
    "    # เขียนโค้ดของคุณตรงนี้\n",
    "    ..."
   ]
  },
 

  {
   "cell_type": "markdown",
   "metadata": {
    "tags": []
   },
   "source": [
    "# แบบฝึกหัดที่ 3\n",
    "\n",
    "จงหาค่า factorial(number) \n",
  "\n",
    "ตัวอย่าง 3! = 1x2x3 = 6\n",
  "\n",
  "5!=1x2x3x4x5 = 120"
   ]
  },
  {
   "cell_type": "code",
   "execution_count": null,
   "metadata": {},
   "outputs": [],
   "source": [
   "\n",
    "    # เขียนโค้ดของคุณตรงนี้\n",
    "    ..."
   ]
  },
 
  {
   "cell_type": "markdown",
   "metadata": {
    "tags": []
   },
   "source": [
    "# แบบฝึกหัดที่ 4\n",
    "\n",
    "จงหาว่าตัวเลขที่กรอกไป เป็น prime number หรือไม่ \n",
  "\n",
    "Prime number หมายถึง ตัวเลข ที่หาผลลัพธ์ได้โดยมีเพียงตัวคูชุดเดียวเท่านั้น เช่น",
  "\n",
  "5!=1x2x3x4x5 = 120"
   ]
  },
  {
   "cell_type": "code",
   "execution_count": null,
   "metadata": {},
   "outputs": [],
   "source": [
   "\n",
    "    # เขียนโค้ดของคุณตรงนี้\n",
    "    ..."
   ]
  },
 

  {
   "cell_type": "code",
   "execution_count": null,
   "metadata": {},
   "outputs": [],
   "source": []
  }
 ],
 "metadata": {
  "kernelspec": {
   "display_name": "Python 3 (ipykernel)",
   "language": "python",
   "name": "python3"
  },
  "language_info": {
   "codemirror_mode": {
    "name": "ipython",
    "version": 3
   },
   "file_extension": ".py",
   "mimetype": "text/x-python",
   "name": "python",
   "nbconvert_exporter": "python",
   "pygments_lexer": "ipython3",
   "version": "3.7.12"
  },
  "toc-showmarkdowntxt": false
 },
 "nbformat": 4,
 "nbformat_minor": 4
}
