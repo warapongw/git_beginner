{
 "cells": [
  
  {
   "cell_type": "markdown",
   "metadata": {
    "tags": []
   },
   "source": [
    "# แบบฝึกหัดที่ 1\n",
    "\n",
    "จงเขียนโปรแกรม python โดยแปลงค่าจาก Km เป็น Mile โดยก าหนดให้ 1 Km เท่ากับ 0.621371 Mile\n",
  "\n",
    " Enter the value in kilometers : 1\n",
  "\n",
    " The entered value in Miles: 0.621371"
   ]
  },

  
  {
   "cell_type": "code",
   "execution_count": null,
   "metadata": {},
   "outputs": [],
   "source": [
   "\n",
    "    # เขียนโค้ดของคุณตรงนี้\n",
    "    ..."
   ]
  },
 
  
  {
   "cell_type": "code",
   "execution_count": null,
   "metadata": {},
   "outputs": [],
   "source": []
  }
 ],
 "metadata": {
  "kernelspec": {
   "display_name": "Python 3 (ipykernel)",
   "language": "python",
   "name": "python3"
  },
  "language_info": {
   "codemirror_mode": {
    "name": "ipython",
    "version": 3
   },
   "file_extension": ".py",
   "mimetype": "text/x-python",
   "name": "python",
   "nbconvert_exporter": "python",
   "pygments_lexer": "ipython3",
   "version": "3.7.12"
  },
  "toc-showmarkdowntxt": false
 },
 "nbformat": 4,
 "nbformat_minor": 4
}
