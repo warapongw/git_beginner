{
 "cells": [
  
 {
   "cell_type": "code",
   "execution_count": null,
   "metadata": {},
   "outputs": [],
   "source": [
    "# กรุณารันเซลล์นี้หากคุณใช้งาน Google Colab เพื่อทำข้อสอบ\n",
    "!pip install -U pip\n",
    "!pip install -U datascience ipytest rich\n",
    "!wget https://raw.githubusercontent.com/ai-builders/entrance-exam-2022/main/sportsday.csv"
   ]
  },
  {
   "cell_type": "code",
   "execution_count": null,
   "metadata": {
    "tags": []
   },
   "outputs": [],
   "source": [
    "# กรุณารันเซลลืนี้ โดยไม่ต้องแก้ไขโค้ดใด ๆ ทั้งสิ้น\n",
    "from __future__ import annotations\n",
    "\n",
    "import math\n",
    "\n",
    "import ipytest\n",
    "import numpy as np\n",
    "import pandas as pd\n",
    "from pytest import approx\n",
    "\n",
    "ipytest.autoconfig()"
   ]
  },  
  
{
   "cell_type": "code",
   "execution_count": null,
   "metadata": {
    "tags": []
   },
   "outputs": [],
   "source": [
    "# กรุณารันเซลลืนี้ โดยไม่ต้องแก้ไขโค้ดใด ๆ ทั้งสิ้น\n",
    "from __future__ import annotations\n",
    "\n",
    "import math\n",
    "\n",
    "import ipytest\n",
    "import numpy as np\n",
    "import pandas as pd\n",
    "from pytest import approx\n",
    "\n",
    "ipytest.autoconfig()"
   ]
  },  

    
     
    
    

 
 
 
  
  
  
  
  
  
  
  
  
  
  
  
  
  {
   "cell_type": "code",
   "execution_count": null,
   "metadata": {},
   "outputs": [],
   "source": []
  }
 ],
 "metadata": {
  "kernelspec": {
   "display_name": "Python 3 (ipykernel)",
   "language": "python",
   "name": "python3"
  },
  "language_info": {
   "codemirror_mode": {
    "name": "ipython",
    "version": 3
   },
   "file_extension": ".py",
   "mimetype": "text/x-python",
   "name": "python",
   "nbconvert_exporter": "python",
   "pygments_lexer": "ipython3",
   "version": "3.7.12"
  },
  "toc-showmarkdowntxt": false
 },
 "nbformat": 4,
 "nbformat_minor": 4
}
