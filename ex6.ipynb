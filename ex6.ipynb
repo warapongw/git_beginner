{
 "cells": [
  
 {
   "cell_type": "code",
   "execution_count": null,
   "metadata": {},
   "outputs": [],
   "source": [
    "# กรุณารันเซลล์นี้หากคุณใช้งาน Google Colab เพื่อทำข้อสอบ\n",
    "!pip install -U pip\n",
    "!pip install -U datascience ipytest rich\n",
    "!wget https://raw.githubusercontent.com/ai-builders/entrance-exam-2022/main/sportsday.csv"
   ]
  },
  {
   "cell_type": "code",
   "execution_count": null,
   "metadata": {
    "tags": []
   },
   "outputs": [],
   "source": [
    "# กรุณารันเซลลืนี้ โดยไม่ต้องแก้ไขโค้ดใด ๆ ทั้งสิ้น\n",
    "from __future__ import annotations\n",
    "\n",
    "import math\n",
    "\n",
    "import ipytest\n",
    "import numpy as np\n",
    "import pandas as pd\n",
    "from pytest import approx\n",
    "\n",
    "ipytest.autoconfig()"
   ]
  },  
  

  {
   "cell_type": "markdown",
   "metadata": {
    "tags": []
   },
   "source": [
    "# แบบฝึกหัดที่ 1\n",
    "\n",
    "จงเขียนโปรแกรม python โดยแปลงค่าจาก Km เป็น Mile โดยก าหนดให้ 1 Km เท่ากับ 0.621371 Mile\n",
  "\n",
    " Enter the value in kilometers : 1\n",
  "\n",
    " The entered value in Miles: 0.621371"
   ]
  },
  {
   "cell_type": "code",
   "execution_count": null,
   "metadata": {},
   "outputs": [],
   "source": [
   "\n",
    "    # เขียนโค้ดของคุณตรงนี้\n",
    "    ..."
   ]
  },
 
 
  {
   "cell_type": "markdown",
   "metadata": {
    "tags": []
   },
   "source": [
    "# แบบฝึกหัดที่ 2\n",
    "\n",
    "จงเขียนโปรแกรม python โดยกรอกข้อมูลตัวเลข 3 ค่า แล้วหแสดงผลค่าที่มีน้อยที่สุด\n",
  "\n",
  "Enter 1st number: 100\n",
  "\n",
  "Enter 2nd number: 50\n",
  "\n",
  "Enter 3rd number: 250\n",
  "\n",
  "The smallest number among 100 , 50 and 250 is: 50"
   ]
  },
  {
   "cell_type": "code",
   "execution_count": null,
   "metadata": {},
   "outputs": [],
   "source": [
   "\n",
    "    # เขียนโค้ดของคุณตรงนี้\n",
    "    ..."
   ]
  },
 

  {
   "cell_type": "markdown",
   "metadata": {
    "tags": []
   },
   "source": [
    "# แบบฝึกหัดที่ 3\n",
    "\n",
    "จงหาค่า factorial(number) \n",
  "\n",
    "ตัวอย่าง 3! = 1x2x3 = 6\n",
  "\n",
  "5!=1x2x3x4x5 = 120"
   ]
  },
  {
   "cell_type": "code",
   "execution_count": null,
   "metadata": {},
   "outputs": [],
   "source": [
   "\n",
    "    # เขียนโค้ดของคุณตรงนี้\n",
    "    ..."
   ]
  },
 
  {
   "cell_type": "markdown",
   "metadata": {
    "tags": []
   },
   "source": [
    "# แบบฝึกหัดที่ 4\n",
    "\n",
    "จงหาว่าตัวเลขที่กรอกไป เป็น prime number หรือไม่ \n",
  "\n",
    "Prime number หมายถึง ตัวเลข ที่หาผลลัพธ์ได้โดยมีเพียงตัวคูณชุดเดียวเท่านั้น เช่น\n",
  "\n",
    "Prime number -> 3 = 1x3 , 61 = 61x1\n",
  "\n",
    "Not a prime number -> 40 = 40x1 , 20x2 , 10x4 , 8x5\n",
  "\n",
    "          Enter any number: 40 \n",
  "\n",
    "          40 is not a prime number \n",
  "\n",
    "          Enter any number: 61 \n",
  "\n",
    "          61 is a prime number"

   ]
  },
  {
   "cell_type": "code",
   "execution_count": null,
   "metadata": {},
   "outputs": [],
   "source": [
   "\n",
    "    # เขียนโค้ดของคุณตรงนี้\n",
    "    ..."
   ]
  },
 

  
  {
   "cell_type": "markdown",
   "metadata": {
    "tags": []
   },
   "source": [
    "# แบบฝึกหัดที่ 5\n",
    "\n",
    "Print Multiplication Table of a Number \n",
  "\n",
    "Enter the number: 7\n",
  "\n",
    "7 X 1 = 7\n",
    "\n",
    "7 X 2 = 14\n",
    "\n",
    "7 X 3 = 21\n",
    "\n",
    "7 X 4 = 28\n",
    "\n",
    "7 X 5 = 35\n",
    "\n",
    "7 X 6 = 42\n",
    "\n",
    "7 X 7 = 49\n",
    "\n",
    "7 X 8 = 56\n",
    "\n",
    "7 X 9 = 63\n",
    "\n",
    "7 X 10 = 70\n"

   ]
  },
  {
   "cell_type": "code",
   "execution_count": null,
   "metadata": {},
   "outputs": [],
   "source": [
   "\n",
    "    # เขียนโค้ดของคุณตรงนี้\n",
    "    ..."
   ]
  },
 
  {
   "cell_type": "markdown",
   "metadata": {
    "tags": []
   },
   "source": [
    "# แบบฝึกหัดที่ 6\n",
    "\n",
    "จงหาว่าตัวเลขที่กรอกเป็นเลขคู่ (even) หรือ เลขคี่ (odd) \n",
  "\n",
    "Enter a number : 15\n",
  "\n",
    "The number is odd\n",
    "\n",
    "Enter a number : 20\n",
  "\n",
    "The number is even"
   ]
  },
  {
   "cell_type": "code",
   "execution_count": null,
   "metadata": {},
   "outputs": [],
   "source": [
   "\n",
    "    # เขียนโค้ดของคุณตรงนี้\n",
    "    ..."
   ]
  },

 {
   "cell_type": "markdown",
   "metadata": {
    "tags": []
   },
   "source": [
    "# แบบฝึกหัดที่ 7\n",
    "\n",
    "จงเขียนโปรแกรม python โดยกรอกข้อมูลตัวเลข 3 ค่า แล้วแสดงผลค่าที่มีค่ามากที่สุด\n",
  "\n",
  "Enter 1st number: 100\n",
  "\n",
  "Enter 2nd number: 50\n",
  "\n",
  "Enter 3rd number: 250\n",
  "\n",
  "The largest number among 100 , 50 and 250 is: 250"
   ]
  },
  {
   "cell_type": "code",
   "execution_count": null,
   "metadata": {},
   "outputs": [],
   "source": [
   "\n",
    "    # เขียนโค้ดของคุณตรงนี้\n",
    "    ..."
   ]
  },

  
 {
   "cell_type": "markdown",
   "metadata": {
    "tags": []
   },
   "source": [
    "# แบบฝึกหัดที่ 8\n",
    "\n",
    "จงหาว่า ตัวเลขที่กรอก มีตัวประกอบ(factors) จำนวนใดบ้างที่หารด้วยตัวเลขนั้น ลงตัว\n",
  "\n",
  "ตัวอย่าง : Enter the number :  20\n",
  "\n",
  "The factors of the number 20 are:\n",
  "\n",
  "[1, 2, 4, 5, 10, 20]"
   ]
  },
  {
   "cell_type": "code",
   "execution_count": null,
   "metadata": {},
   "outputs": [],
   "source": [
   "\n",
    "    # เขียนโค้ดของคุณตรงนี้\n",
    "    ..."
   ]
  },

 {
   "cell_type": "markdown",
   "metadata": {
    "tags": []
   },
   "source": [
    "# แบบฝึกหัดที่ 9\n",
    "\n",
    "Palindrome คือคำ วลี จำนวนหรือลำดับที่สามารถอ่านจากหลังไปหน้าหรือหน้าไปหลังแล้วมีความหมายเหมือนกัน\n",
  "\n",
    "เช่น  madam = madam , radar = radar , ยาย = ยาย  , กนก , นอน , นาน\n",
  "\n",
  "Enter the word to check: madam\n",
  "\n",
  "The word is palindrome\n",
  "\n",
  "Enter the word to check: hello\n",
  "\n",
  "The word is not palindrome"
   ]
  },
  {
   "cell_type": "code",
   "execution_count": null,
   "metadata": {},
   "outputs": [],
   "source": [
   "\n",
    "    # เขียนโค้ดของคุณตรงนี้\n",
    "    ..."
   ]
  },

  
 {
   "cell_type": "markdown",
   "metadata": {
    "tags": []
   },
   "source": [
    "# แบบฝึกหัดที่ 10\n",
    "\n",
    "จงแปลงค่าองศาเซลเซียส (celsius) ให้เป็น ฟาเลนไฮต์ (fahrenhiet)\n",
  "\n",
    " โดยกำหนดให้  Celsius * 1.8 = Fahrenheit - 32\n",
  "\n",
  "Enter the degree in Celsius : 25\n",
  "\n",
  "Degree in Fahrenhiet : 77.0"
   ]
  },
  {
   "cell_type": "code",
   "execution_count": null,
   "metadata": {},
   "outputs": [],
   "source": [
   "\n",
    "    # เขียนโค้ดของคุณตรงนี้\n",
    "    ..."
   ]
  },

  {
   "cell_type": "markdown",
   "metadata": {
    "tags": []
   },
   "source": [
    "# แบบฝึกหัดที่ 11\n",
    "\n",
    "ตรวจสอบตัวเลขที่กรอกว่ามีค่าเป็น บวก(positive) หรือ ลบ (negative) หรือ ศูนย์ (zero)\n",
    "\n",
    " Enter a number : 7 \n",
    "\n",
    "The number is positive\n",
    "\n",
    " Enter a number : -3 \n",
    "\n",
    "The number is negative\n",
    "\n",
    " Enter a number : 0 \n",
    "\n",
    "The number is equal to zero"
   ]
  },
  {
   "cell_type": "code",
   "execution_count": null,
   "metadata": {},
   "outputs": [],
   "source": [
   "\n",
    "    # เขียนโค้ดของคุณตรงนี้\n",
    "    ..."
   ]
  },


  
  {
   "cell_type": "markdown",
   "metadata": {
    "tags": []
   },
   "source": [
    "# แบบฝึกหัดที่ 12\n",
    "\n",
    "Remove spaces\n",
    "\n",
    "จงเขียนโปรแกรม ให้พื้นที่ว่างหายไป เช่น \n",
    "\n",
    "       Input the word :  Hello! I am a student  \n",
    "\n",
    "                         Hello!Iamastudent"
   ]
  },
  {
   "cell_type": "code",
   "execution_count": null,
   "metadata": {},
   "outputs": [],
   "source": [
   "\n",
    "    # เขียนโค้ดของคุณตรงนี้\n",
    "    ..."
   ]
  },

  
  
   {
   "cell_type": "markdown",
   "metadata": {
    "tags": []
   },
   "source": [
    "# แบบฝึกหัดที่ 13\n",
    "\n",
    "จากค่า List ที่กำหนดให้ จงหาผลรวมของค่าทั้งหมด\n",
    "\n",
    " a=[1,2,3,4,5,6,7,8,9,10]\n",
    "\n",
     "sum of a = 55"  
   ]
  },
  {
   "cell_type": "code",
   "execution_count": null,
   "metadata": {},
   "outputs": [],
   "source": [
    " a=[1,2,3,4,5,6,7,8,9,10]\n",
    "\n",
    "    # เขียนโค้ดของคุณตรงนี้\n",
    "    ..."
   ]
  },

 
   {
   "cell_type": "markdown",
   "metadata": {
    "tags": []
   },
   "source": [
    "# แบบฝึกหัดที่ 14\n",
    "\n",
    "เปลี่ยนตัวเลขจาก 9 เป็น 10\n",
    "\n",
    "ลบค่าตัวเลข  5 ออก\n",
        "\n",
    "เพิ่มตัวเลขตัวสุดท้ายเป็นเลข 20\n",
    "\n",
     "แสดงค่า List ทั้งหมด  และหาผลรวมของเลขทั้งหมด\n",
    "\n",
     "           ก่อนเปลี่ยน  [1, 2, 3, 4, 5, 6, 7, 8, 9, 10]\n",    
    "\n",
     "           หลังเปลี่ยน  [1, 2, 3, 4, 6, 7, 8, 10, 10, 20]\n",    
    "\n",
     "           ผลรวมของเลขทั้งงหมด  = 71"    
   ]
  },
  {
   "cell_type": "code",
   "execution_count": null,
   "metadata": {},
   "outputs": [],
   "source": [
    " a=[1,2,3,4,5,6,7,8,9,10]\n",
    "\n",
    "    # เขียนโค้ดของคุณตรงนี้\n",
    "    ..."
   ]
  },

 
   {
   "cell_type": "markdown",
   "metadata": {
    "tags": []
   },
   "source": [
    "# แบบฝึกหัดที่ 15\n",
    "\n",
    "เปลี่ยน (เงาะ) เป็น (ชมพู่)\n",
    "\n",
    "ลบ (ฝรั่ง) ออก\n",
    "\n",
    "เพิ่มตัวสุดท้าย (กล้วย)\n",
    "\n",
     "           ก่อนเปลี่ยน  [มะม่วง, ฝรั่ง , แตงโม , เงาะ, สัปปะรด , ส้ม , มะละกอ]\n",    
    "\n",
     "           หลังเปลี่ยน  [มะม่วง, แตงโม , ชมพู่, สัปปะรด , ส้ม , มะละกอ , กล้วย]"
   ]
  },
  {
   "cell_type": "code",
   "execution_count": null,
   "metadata": {},
   "outputs": [],
   "source": [
    " food=[ \"มะม่วง\",  \"ฝรั่ง\" ]\n",
    "\n",    
    "    # เขียนโค้ดของคุณตรงนี้\n",
    "    ..."
   ]
  },
  


  
  {
   "cell_type": "code",
   "execution_count": null,
   "metadata": {},
   "outputs": [],
   "source": []
  }
 ],
 "metadata": {
  "kernelspec": {
   "display_name": "Python 3 (ipykernel)",
   "language": "python",
   "name": "python3"
  },
  "language_info": {
   "codemirror_mode": {
    "name": "ipython",
    "version": 3
   },
   "file_extension": ".py",
   "mimetype": "text/x-python",
   "name": "python",
   "nbconvert_exporter": "python",
   "pygments_lexer": "ipython3",
   "version": "3.7.12"
  },
  "toc-showmarkdowntxt": false
 },
 "nbformat": 4,
 "nbformat_minor": 4
}
