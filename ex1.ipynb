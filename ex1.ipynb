{
 "cells": [
  {
   "cell_type": "markdown",
   "metadata": {
    "tags": []
   },
   "source": [
    "# แบบทดสอบเข้าโครงการ AI Builders 2022\n",
    "\n",
    "ยินดีต้อนรับน้อง ๆ สู่แบบทดสอบทักษะเบื้องต้นในการเขียนโปแกรมภาษา Python\n",
    "และการหัดใช้งานไลบราลี่ [`numpy`](https://numpy.org/doc/stable/) และ [`pandas`](https://pandas.pydata.org/docs/)\n",
    "ซึ่งเป็นสองไลบราลี่ที่มีการใช้งานบ่อยในการทำงานด้าน Data Science ด้วย Python\n",
    "\n",
    "ในแบบทดสอบฉบับนี้น้อง ๆ จะเจอกับโจทย์ปัญหา 12 ข้อ มีทั้งคำถามที่ง่ายและยากปะปนกันไป\n",
    "สำหรับแต่ละข้อ น้อง ๆ จะต้องโดยเขียนโค้ดในตำแหน่งที่กำหนดให้จนทำให้ฟังก์ชันสมบูรณ์\n",
    "และสามารถทำงานได้ตามเงื่อนไขสเปกที่กำหนดไว้ให้ในโจทย์ปัญหา\n",
    "เมื่อน้อง ๆ ทำโจทย์แต่ละข้อเสร็จแล้ว สามารถตรวจสอบความถูกต้องของโปรแกรมคำตอบคร่าว ๆ\n",
    "ได้จากการรันเทสเคสที่อยู่ในเซลล์ถัดไป หากพบข้อผิดพลาดให้ลองตรวจทานโปรแกรมคำตอบของตนอีกครั้งหนึ่ง\n",
    "  \n",
    "#### ข้อพึงระวัง\n",
    "- ไม่แนะนำให้ `import` โมดูลอื่น ๆ มาใช้งานในข้อสอบนี้ นอกเหนือจากที่กำหนดไว้แล้วในไฟล์นี้\n",
    "  เพราะในขั้นตอนการตรวจข้อสอบจริงอาจจะไม่มีโมดูลดังกล่าวให้ใช้งานได้\n",
    "  ส่งผลทำให้เกิดข้อผิดพลาดของโปรแกรมคำตอบได้  \n",
    "  อนึ่ง แบบทดสอบนี้สามารถลงมือทำได้โดยไม่จำเป็นต้องใช้โมดูลอื่น ๆ เพิ่มเติม\n",
    "- ผู้ทำแบบทดสอบสามารถสร้างเซลล์ใหม่เพื่อทดสอบโค้ดและลองดีบั๊กโค้ดดูได้\n",
    "  แต่อย่าลืมลบเซลล์ดังกล่าวออกก่อนส่งไฟล์โน้ตบุ๊กคำตอบกลับมายังใบสมัครเข้าร่วมโครงการฯ\n",
    "- เมื่อทำข้อสอบเสร็จแล้ว ให้ลองเริ่มต้นรันทุกเซลล์ในไฟล์โน้ตบุ๊กใหม่ทั้งหมดจากบนลงล่าง\n",
    "  เพื่อตรวจทานอีกครั้งหนึ่งว่าผลลัพธ์เป็นไปตามที่ต้องการหรือไม่"
   ]
  },
  {
   "cell_type": "code",
   "execution_count": null,
   "metadata": {},
   "outputs": [],
   "source": [
    "# กรุณารันเซลล์นี้หากคุณใช้งาน Google Colab เพื่อทำข้อสอบ\n",
    "!pip install -U pip\n",
    "!pip install -U datascience ipytest rich\n",
    "!wget https://raw.githubusercontent.com/ai-builders/entrance-exam-2022/main/sportsday.csv"
   ]
  },
  {
   "cell_type": "code",
   "execution_count": null,
   "metadata": {
    "tags": []
   },
   "outputs": [],
   "source": [
    "# กรุณารันเซลลืนี้ โดยไม่ต้องแก้ไขโค้ดใด ๆ ทั้งสิ้น\n",
    "from __future__ import annotations\n",
    "\n",
    "import math\n",
    "\n",
    "import ipytest\n",
    "import numpy as np\n",
    "import pandas as pd\n",
    "from pytest import approx\n",
    "\n",
    "ipytest.autoconfig()"
   ]
  },
  {
   "cell_type": "markdown",
   "metadata": {
    "tags": []
   },
   "source": [
    "# โจทย์ปัญหาที่ 0: นับจำนวนคู่ (ปัญหาตัวอย่าง)\n",
    "\n",
    "จงเติมฟังก์ชัน `count_even` ให้สมบูรณ์ เพื่อคำนวณว่าในลิสต์ของจำนวนเต็ม `numbers` นั้น มีกี่จำนวนที่เป็นจำนวนคู่?\n",
    "\n",
    "#### อินพุตของฟังก์ชัน\n",
    "\n",
    "- `numbers`: ลิสต์ของจำนวนเต็ม\n",
    "\n",
    "#### ฟังก์ชันรีเทิร์นค่า\n",
    "\n",
    "- จำนวนของค่าในลิสต์ `numbers` ที่เป็นจำนวนคู่\n",
    "\n",
    "**หมายเหตุ:** ในเซลล์ที่ปรากฏข้างล่างมีตัวอย่างของโปรแกรมคำตอบที่ทำงานถูกต้อง\n",
    "อาจมีโปรแกรมอื่นต่างออกไปจากนี้ที่ให้คำตอบที่ถูกต้องเช่นกัน"
   ]
  },
  {
   "cell_type": "code",
   "execution_count": null,
   "metadata": {
    "tags": []
   },
   "outputs": [],
   "source": [
    "def count_even(values: list[int]) -> int:\n",
    "    count = 0\n",
    "    for v in values:\n",
    "        if v % 2 == 0:\n",
    "            count += 1\n",
    "    return count"
   ]
  },
  {
   "cell_type": "markdown",
   "metadata": {
    "tags": []
   },
   "source": [
    "โจทย์ปัญหาแต่ละข้อจะมาพร้อมกันเทสเคสดังที่ปรากฏในเซลล์ข้างล่างนี้\n",
    "หากโปรแกรมข้างต้นถูกต้อง เซลล์โค้ดนี้จะรันผ่านโดยไม่เกิดข้อผิดพลาดขึ้น"
   ]
  },
  {
   "cell_type": "code",
   "execution_count": null,
   "metadata": {
    "tags": []
   },
   "outputs": [],
   "source": [
    "%%ipytest -qqs\n",
    "def test_count_even():\n",
    "    assert count_even([1, 2, 3, 4, 5]) == 2\n",
    "    assert count_even([1, 3, 5, 7]) == 0\n",
    "    assert count_even([2, 4, 8, 16, 32]) == 5\n",
    "    assert count_even([]) == 0\n",
    "    print(\"==== Test OK ====\")"
   ]
  },
  {
   "cell_type": "markdown",
   "metadata": {
    "tags": []
   },
   "source": [
    "# โจทย์ปัญหาที่ 1: พื้นที่ผิวของกรวย\n",
    "\n",
    "จงเติมฟังก์ชัน `cone_surface_area` ให้สมบูรณ์ เพื่อคำนวณหาพื้นที่ผิวของกรวยกลมตรง (Right Circular Cone)\n",
    "ที่มีฐานรัศมี $r$ และความสูง $h$ จากสมการดังต่อไปนี้\n",
    "\n",
    "$$ \\mathit{Area} = \\pi r (r + \\sqrt{r^2 + h^2})$$\n",
    "\n",
    "#### อินพุตของฟังก์ชัน\n",
    "\n",
    "- `radius`: รัศมีฐานวงกลมของกรวย\n",
    "- `height`: ความสูงของกรวย\n",
    "\n",
    "#### ฟังก์ชันรีเทิร์นค่า\n",
    "\n",
    "- พื้นที่ผิวของกรวยกลมตรงตามขนาดที่กำหนดให้\n",
    "\n",
    "#### คำใบ้และข้อมูลเพิ่มเติม\n",
    "\n",
    "- [Documentation ของแพ็กเกจ `math`](https://docs.python.org/3.7/library/math.html)"
   ]
  },
  {
   "cell_type": "code",
   "execution_count": null,
   "metadata": {},
   "outputs": [],
   "source": [
    "def cone_surface_area(radius: float, height: float) -> float:\n",
    "    assert radius >= 0, \"radius cannot be negative\"\n",
    "    assert height >= 0, \"height cannot be negative\"\n",
    "    # เขียนโค้ดของคุณตรงนี้\n",
    "    ..."
   ]
  },
  {
   "cell_type": "code",
   "execution_count": null,
   "metadata": {},
   "outputs": [],
   "source": [
    "%%ipytest -qqs\n",
    "def test_cone_surface_area():\n",
    "    assert cone_surface_area(radius=2, height=3) == approx(35.22071741263713)\n",
    "    assert cone_surface_area(radius=2, height=0) == approx(8 * math.pi)\n",
    "    assert cone_surface_area(radius=0, height=3) == approx(0)\n",
    "    assert cone_surface_area(radius=3, height=4) == approx(24 * math.pi)\n",
    "    print(\"==== Test OK ====\")"
   ]
  },
  {
   "cell_type": "markdown",
   "metadata": {
    "tags": []
   },
   "source": [
    "# โจทย์ปัญหาที่ 2: โปรแกรมค้นหาคำสำหรับ WORDLE\n",
    "\n",
    "[หากคุณไม่รู้จัก WORDLE ลองเล่นได้ที่นี่](https://www.nytimes.com/games/wordle/index.html)\n",
    "\n",
    "(โจทย์ปัญหานี้มีปัญหาย่อย 3 ข้อ)\n",
    "\n",
    "สำหรับโจทย์ปัญหาข้อนี้ คุณจะต้องเขียนฟังก์ชัน 3 อย่างที่จะช่วยคัดกรองคำจากชุดคำตามเงื่อนไขที่กำหนดให้\n",
    "ซึ่งสามารถนำมาใช้ช่วยค้นหาคำตอบของปริศนา WORDLE ได้\n",
    "\n",
    "**ข้อตกลง:** สำหรับโจทย์ข้อนี้ เราสนใจเฉพาะคำที่ประกอบไปด้วยตัวอักษรภาษาอังกฤษพิมพ์เล็ก 5 ตัว (a-z)  \n",
    "โดยเราจะเรียกตำแหน่งของตัวอักษร 1 ถึง 5 โดย 1 หมายถึงตัวอักษรตัวแรก (ตัวซ้ายสุดของคำ) และ 5 หมายถึงตัวอักษรตัวสุดท้าย (ตัวขวาสุดของคำ)  \n",
    "ยกตัวอย่างเช่นคำว่า `\"APPLE\"` นั้น\n",
    "- มีตัวอักษร `\"A\"` ในตำแหน่งที่ 1\n",
    "- มีตัวอักษร `\"P\"` ในตำแหน่งที่ 2 และ 3\n",
    "- มีตัวอักษร `\"L\"` ในตำแหน่งที่ 4\n",
    "- มีตัวอักษร `\"E\"` ในตำแหน่งที่ 5"
   ]
  },
  {
   "cell_type": "code",
   "execution_count": null,
   "metadata": {},
   "outputs": [],
   "source": [
    "%%ipytest -qqs\n",
    "# ชุดคำเหล่านี้จะถูกใช้งานในเทสเคสสำหรับแต่ละข้อย่อย\n",
    "FUNNY_WORDS = [\n",
    "    \"poboy\", \"dobby\", \"cuppy\", \"hobby\", \"pudgy\", \"cocky\", \"bawdy\", \"miffy\", \"foamy\", \"jazzy\",\n",
    "    \"caddy\", \"jaggy\", \"muddy\", \"jumpy\", \"duchy\", \"poppy\", \"yucky\", \"bumpy\", \"biddy\", \"choky\",\n",
    "    \"fuzzy\", \"buggy\", \"byway\", \"gaudy\", \"dizzy\", \"moody\", \"muggy\", \"gabby\", \"dicky\", \"doggy\",\n",
    "    \"wiggy\", \"hooky\", \"kiddy\", \"dumpy\", \"waddy\", \"guppy\", \"woody\", \"doozy\", \"giddy\", \"mummy\",\n",
    "    \"gamay\", \"piggy\", \"divvy\", \"gawky\", \"bobby\", \"woozy\", \"ducky\", \"buddy\", \"cooky\", \"mommy\", \n",
    "    \"dodgy\", \"middy\", \"gummy\", \"kooky\", \"jiffy\", \"humpy\", \"picky\", \"comfy\", \"puppy\", \"muzzy\",\n",
    "    \"copay\", \"cabby\", \"gauzy\", \"booby\", \"boomy\", \"mammy\", \"boody\", \"pommy\", \"zappy\", \"yummy\",\n",
    "    \"wacky\", \"jimmy\", \"hubby\", \"bubby\", \"paddy\", \"pappy\", \"goofy\", \"cubby\", \"goody\", \"juicy\",\n",
    "    \"hammy\", \"daffy\", \"kicky\", \"zippy\", \"pawky\", \"biffy\", \"hippy\", \"baggy\", \"howdy\", \"cuddy\",\n",
    "    \"daddy\", \"dowdy\", \"dippy\", \"happy\", \"huffy\", \"dummy\", \"foggy\",\n",
    "]"
   ]
  },
  {
   "cell_type": "markdown",
   "metadata": {
    "tags": []
   },
   "source": [
    "## ข้อย่อยที่ 2.1: คำที่มีตัวอักษรในตำแหน่งที่ต้องการ\n",
    "\n",
    "จงเติมฟังก์ชัน `filter_matching` ให้สมบูรณ์ เพื่อคัดกรองลิสต์ของคำที่มี 5 ตัวอักษร\n",
    "คงไว้เฉพาะคำที่มีตัวอักษรในตำแหน่งที่กำหนดให้ ตรงกับตัวอักษรที่กำหนดให้\n",
    "\n",
    "#### อินพุตของฟังก์ชัน\n",
    "\n",
    "- `wordbank`: ลิสต์ของชุดคำที่ต้องการพิจารณา ซึ่งแต่ละคำเป็นสตริงที่ประกอบไปด้วย a-z ความยาว 5 ตัวอักษร\n",
    "- `target`: ตัวอักษรตัวเดียวที่ต้องการพบในคำ ในตำแหน่งที่ต้องการ\n",
    "- `position`: ตำแหน่งของตัวอักษรที่ต้องการตรวจสอบ (มีค่าตั้งแต่ 1 ถึง 5)\n",
    "\n",
    "#### ฟังก์ชันรีเทิร์นค่า\n",
    "\n",
    "- ลิสต์ของคำที่กรองตามเงื่อนไขข้างต้น โดยลำดับของคำที่ปรากฏจะต้องคงเดิมจากลิสต์ที่เป็นอินพุต (Order Preserving)\n",
    "\n",
    "#### คำใบ้และข้อมูลเพิ่มเติม\n",
    "\n",
    "- อาจลองใช้ลูป `for` เพื่อตรวจสอบคำทีละคำ และการตรวจสอบประพจน์เงื่อนไขด้วย `if`"
   ]
  },
  {
   "cell_type": "code",
   "execution_count": null,
   "metadata": {},
   "outputs": [],
   "source": [
    "def filter_matching(wordbank: list[str], target: str, position: int) -> list[str]:\n",
    "    # เขียนโค้ดของคุณตรงนี้\n",
    "    ..."
   ]
  },
  {
   "cell_type": "code",
   "execution_count": null,
   "metadata": {},
   "outputs": [],
   "source": [
    "%%ipytest -qqs\n",
    "def test_filter_matching():\n",
    "    assert filter_matching([\"hippo\", \"zebra\", \"panda\", \"koala\"], \"a\", 5) == [\"zebra\", \"panda\", \"koala\"]\n",
    "    assert filter_matching([\"hippo\", \"zebra\", \"panda\", \"koala\"], \"e\", 2) == [\"zebra\"]\n",
    "    assert filter_matching([\"hippo\", \"zebra\", \"panda\", \"koala\"], \"x\", 1) == []\n",
    "    assert filter_matching(FUNNY_WORDS, \"m\", 1) == [\n",
    "        \"miffy\", \"muddy\", \"moody\", \"muggy\", \"mummy\", \"mommy\", \"middy\", \"muzzy\", \"mammy\",\n",
    "    ]\n",
    "    assert filter_matching(FUNNY_WORDS, \"m\", 2) == []\n",
    "    assert filter_matching(FUNNY_WORDS, \"i\", 3) == [\"juicy\"]\n",
    "    assert filter_matching(FUNNY_WORDS, \"e\", 4) == []\n",
    "    assert filter_matching(FUNNY_WORDS, \"y\", 5) == FUNNY_WORDS\n",
    "    assert filter_matching(FUNNY_WORDS, \"k\", 4) == [\n",
    "        \"cocky\", \"yucky\", \"choky\", \"dicky\", \"hooky\", \"gawky\", \"ducky\", \"cooky\", \"kooky\", \"picky\",\n",
    "        \"wacky\", \"kicky\", \"pawky\",\n",
    "    ]\n",
    "    assert filter_matching([], \"x\", 2) == []\n",
    "    print(\"==== Test OK ====\")"
   ]
  },
  {
   "cell_type": "markdown",
   "metadata": {
    "tags": []
   },
   "source": [
    "## ข้อย่อยที่ 2.2: คำที่ไม่มีตัวอักษรที่กำหนดให้\n",
    "\n",
    "จงเติมฟังก์ชัน `filter_absence` ให้สมบูรณ์ เพื่อคัดกรองลิสต์ของคำที่มี 5 ตัวอักษร\n",
    "คงไว้เฉพาะคำที่ไม่มีตัวอักษรที่กำหนดให้ในตำแหน่งใด ๆ เลย\n",
    "\n",
    "#### อินพุตของฟังก์ชัน\n",
    "\n",
    "- `wordbank`: ลิสต์ของชุดคำที่ต้องการพิจารณา ซึ่งแต่ละคำเป็นสตริงที่ประกอบไปด้วย a-z ความยาว 5 ตัวอักษร\n",
    "- `unwanted`: ตัวอักษรตัวเดียวที่ไม่ต้องการพบในคำไม่ว่าตำแหน่งใดก็ตาม\n",
    "\n",
    "#### ฟังก์ชันรีเทิร์นค่า\n",
    "\n",
    "- ลิสต์ของคำที่กรองตามเงื่อนไขข้างต้น โดยลำดับของคำที่ปรากฏจะต้องคงเดิมจากลิสต์ที่เป็นอินพุต (Order Preserving)\n",
    "\n",
    "#### คำใบ้และข้อมูลเพิ่มเติม\n",
    "\n",
    "- อาจจะใช้ลูป `for` ชั้นเดียว หรือสองชั้นก็ได้ แล้วแต่จะพิจารณา"
   ]
  },
  {
   "cell_type": "code",
   "execution_count": null,
   "metadata": {},
   "outputs": [],
   "source": [
    "def filter_absence(wordbank: list[str], unwanted: str) -> list[str]:\n",
    "    # เขียนโค้ดของคุณตรงนี้\n",
    "    ..."
   ]
  },
  {
   "cell_type": "code",
   "execution_count": null,
   "metadata": {},
   "outputs": [],
   "source": [
    "%%ipytest -qqs\n",
    "def test_filter_absence():\n",
    "    assert filter_absence([\"hippo\", \"zebra\", \"panda\", \"koala\"], \"a\") == [\"hippo\"]\n",
    "    assert filter_absence([\"zebra\", \"panda\", \"koala\"], \"a\") == []\n",
    "    assert filter_absence([\"hippo\", \"zebra\", \"panda\", \"koala\"], \"x\") == [\"hippo\", \"zebra\", \"panda\", \"koala\"]\n",
    "    assert filter_absence(FUNNY_WORDS, \"m\") == [\n",
    "        \"poboy\", \"dobby\", \"cuppy\", \"hobby\", \"pudgy\", \"cocky\", \"bawdy\", \"jazzy\", \"caddy\", \"jaggy\",\n",
    "        \"duchy\", \"poppy\", \"yucky\", \"biddy\", \"choky\", \"fuzzy\", \"buggy\", \"byway\", \"gaudy\", \"dizzy\", \n",
    "        \"gabby\", \"dicky\", \"doggy\", \"wiggy\", \"hooky\", \"kiddy\", \"waddy\", \"guppy\", \"woody\", \"doozy\", \n",
    "        \"giddy\", \"piggy\", \"divvy\", \"gawky\", \"bobby\", \"woozy\", \"ducky\", \"buddy\", \"cooky\", \"dodgy\", \n",
    "        \"kooky\", \"jiffy\", \"picky\", \"puppy\", \"copay\", \"cabby\", \"gauzy\", \"booby\", \"boody\", \"zappy\", \n",
    "        \"wacky\", \"hubby\", \"bubby\", \"paddy\", \"pappy\", \"goofy\", \"cubby\", \"goody\", \"juicy\", \"daffy\", \n",
    "        \"kicky\", \"zippy\", \"pawky\", \"biffy\", \"hippy\", \"baggy\", \"howdy\", \"cuddy\", \"daddy\", \"dowdy\",\n",
    "        \"dippy\", \"happy\", \"huffy\", \"foggy\",\n",
    "    ]\n",
    "    assert filter_absence(FUNNY_WORDS, \"u\") == [\n",
    "        \"poboy\", \"dobby\", \"hobby\", \"cocky\", \"bawdy\", \"miffy\", \"foamy\", \"jazzy\", \"caddy\", \"jaggy\", \n",
    "        \"poppy\", \"biddy\", \"choky\", \"byway\", \"dizzy\", \"moody\", \"gabby\", \"dicky\", \"doggy\", \"wiggy\", \n",
    "        \"hooky\", \"kiddy\", \"waddy\", \"woody\", \"doozy\", \"giddy\", \"gamay\", \"piggy\", \"divvy\", \"gawky\", \n",
    "        \"bobby\", \"woozy\", \"cooky\", \"mommy\", \"dodgy\", \"middy\", \"kooky\", \"jiffy\", \"picky\", \"comfy\", \n",
    "        \"copay\", \"cabby\", \"booby\", \"boomy\", \"mammy\", \"boody\", \"pommy\", \"zappy\", \"wacky\", \"jimmy\", \n",
    "        \"paddy\", \"pappy\", \"goofy\", \"goody\", \"hammy\", \"daffy\", \"kicky\", \"zippy\", \"pawky\", \"biffy\", \n",
    "        \"hippy\", \"baggy\", \"howdy\", \"daddy\", \"dowdy\", \"dippy\", \"happy\", \"foggy\",\n",
    "    ]\n",
    "    assert filter_absence(FUNNY_WORDS, \"y\") == []\n",
    "    assert filter_absence(FUNNY_WORDS, \"r\") == FUNNY_WORDS\n",
    "    assert filter_absence([], \"j\") == []\n",
    "    print(\"==== Test OK ====\")"
   ]
  },
  {
   "cell_type": "markdown",
   "metadata": {
    "tags": []
   },
   "source": [
    "## ข้อย่อยที่ 2.3: คำที่มีตัวอักษรนอกเหนือจากตำแหน่งที่กำหนด\n",
    "\n",
    "จงเติมฟังก์ชัน `filter_misplaced` ให้สมบูรณ์ เพื่อคัดกรองลิสต์ของคำที่มี 5 ตัวอักษร\n",
    "คงไว้เฉพาะคำที่มีตัวอักษรที่กำหนด แต่จะต้องไม่อยู่ในตำแหน่งที่กำหนดให้\n",
    "\n",
    "#### อินพุตของฟังก์ชัน\n",
    "\n",
    "- `wordbank`: ลิสต์ของชุดคำที่ต้องการพิจารณา ซึ่งแต่ละคำเป็นสตริงที่ประกอบไปด้วย a-z ความยาว 5 ตัวอักษร\n",
    "- `target`: ตัวอักษรตัวเดียวที่ต้องการพบในคำ\n",
    "- `unwanted_positions`: ลิสต์ของตำแหน่งทั้งหมดที่จะต้องไม่พบตัวอักษรที่กำหนด\n",
    "\n",
    "#### ฟังก์ชันรีเทิร์นค่า\n",
    "\n",
    "- ลิสต์ของคำที่กรองตามเงื่อนไขข้างต้น โดยลำดับของคำที่ปรากฏจะต้องคงเดิมจากลิสต์ที่เป็นอินพุต (Order Preserving)\n",
    "\n",
    "#### คำใบ้และข้อมูลเพิ่มเติม\n",
    "\n",
    "- อาจจำเป็นต้องใช้ลูป `for` สองชั้นเพื่อแก้ปัญหาข้อย่อยนี้"
   ]
  },
  {
   "cell_type": "code",
   "execution_count": null,
   "metadata": {},
   "outputs": [],
   "source": [
    "def filter_misplaced(wordbank: list[str], target: str, unwanted_positions: list[int]) -> list[str]:\n",
    "    # เขียนโค้ดของคุณตรงนี้\n",
    "    ..."
   ]
  },
  {
   "cell_type": "code",
   "execution_count": null,
   "metadata": {},
   "outputs": [],
   "source": [
    "%%ipytest -qqs\n",
    "def test_filter_misplaced():\n",
    "    assert filter_misplaced([\"hippo\", \"zebra\", \"panda\", \"koala\"], \"a\", [2, 3]) == [\"zebra\"]\n",
    "    assert filter_misplaced([\"hippo\", \"zebra\", \"panda\", \"koala\"], \"o\", [1, 4]) == [\"hippo\", \"koala\"]\n",
    "    assert filter_misplaced([\"hippo\", \"zebra\", \"panda\", \"koala\"], \"x\", [1, 2, 5]) == []\n",
    "    assert filter_misplaced(FUNNY_WORDS, \"m\", [1, 4]) == [\n",
    "        \"jumpy\", \"bumpy\", \"dumpy\", \"gamay\", \"humpy\", \"comfy\",\n",
    "    ]\n",
    "    assert filter_misplaced(FUNNY_WORDS, \"u\", [2, 3]) == []\n",
    "    assert filter_misplaced(FUNNY_WORDS, \"f\", []) == [\n",
    "        \"miffy\", \"foamy\", \"fuzzy\", \"jiffy\", \"comfy\", \"goofy\", \"daffy\", \"biffy\", \"huffy\", \"foggy\",\n",
    "    ]\n",
    "    assert filter_misplaced(FUNNY_WORDS, \"y\", [3]) == FUNNY_WORDS\n",
    "    assert filter_misplaced(FUNNY_WORDS, \"o\", [1, 2, 3, 4, 5]) == []\n",
    "    assert filter_misplaced([], \"x\", [3, 5]) == []\n",
    "    print(\"==== Test OK ====\")"
   ]
  },
  {
   "cell_type": "markdown",
   "metadata": {
    "tags": []
   },
   "source": [
    "# โจทย์ปัญหาที่ 3: สตริงย่อยนำหน้า\n",
    "\n",
    "(โจทย์ปัญหานี้มีปัญหาย่อย 2 ข้อ)\n",
    "\n",
    "**นิยาม:** เรากำหนดให้ **Prefix** ของสตริงหนึ่ง ๆ คือสตริงย่อยใด ๆ ที่เป็นส่วนหน้าสุดของสตริงนั้น\n",
    "ยกตัวอย่างเช่น สตริง `\"Hello, World!\"` ประกอบไปด้วย Prefix ดังต่อไปนี้\n",
    "- `\"\"`\n",
    "- `\"H\"`\n",
    "- `\"He\"`\n",
    "- `\"Hel\"`\n",
    "- `\"Hell\"`\n",
    "- `\"Hello\"`\n",
    "- `\"Hello,\"`\n",
    "- `\"Hello, \"`\n",
    "- `\"Hello, W\"`\n",
    "- `\"Hello, Wo\"`\n",
    "- `\"Hello, Wor\"`\n",
    "- `\"Hello, Worl\"`\n",
    "- `\"Hello, World\"`\n",
    "- `\"Hello, World!\"`\n",
    "\n",
    "สังเกตว่าสตริงเปล่า และสตริงตั้งต้น ล้วนนับเป็น Prefix ของสตริงดั้งเดิมด้วย"
   ]
  },
  {
   "cell_type": "markdown",
   "metadata": {
    "tags": []
   },
   "source": [
    "## ข้อย่อยที่ 3.1: หา Prefix ทั้งหมดที่เป็นไปได้\n",
    "\n",
    "จงเติมฟังก์ชัน `all_prefixes` ให้สมบูรณ์ เพื่อคำนวณหาลิสต์ของ Prefix ทั้งหมดของสตริงที่กำหนดให้\n",
    "\n",
    "#### อินพุตของฟังก์ชัน\n",
    "\n",
    "- `s`: สตริงดั้งเดิมที่ต้องการนำมาคำนวณหา Prefix ทั้งหมด\n",
    "\n",
    "#### ฟังก์ชันรีเทิร์นค่า\n",
    "\n",
    "- ลิสต์ของ Prefix ทั้งหมดของ `s` โดยเรียงลำดับจากสั้นที่สุดไปยังยาวที่สุด"
   ]
  },
  {
   "cell_type": "code",
   "execution_count": null,
   "metadata": {
    "tags": []
   },
   "outputs": [],
   "source": [
    "def all_prefixes(s: str) -> list[str]:\n",
    "    # เขียนโค้ดของคุณตรงนี้\n",
    "    ..."
   ]
  },
  {
   "cell_type": "code",
   "execution_count": null,
   "metadata": {},
   "outputs": [],
   "source": [
    "%%ipytest -qqs\n",
    "def test_all_prefixes():\n",
    "    assert all_prefixes(\"Hello, World!\") == [\n",
    "        \"\",\n",
    "        \"H\",\n",
    "        \"He\",\n",
    "        \"Hel\",\n",
    "        \"Hell\",\n",
    "        \"Hello\",\n",
    "        \"Hello,\",\n",
    "        \"Hello, \",\n",
    "        \"Hello, W\",\n",
    "        \"Hello, Wo\",\n",
    "        \"Hello, Wor\",\n",
    "        \"Hello, Worl\",\n",
    "        \"Hello, World\",\n",
    "        \"Hello, World!\",\n",
    "    ]\n",
    "    assert all_prefixes(\"APPLES\") == [\"\", \"A\", \"AP\", \"APP\", \"APPL\", \"APPLE\", \"APPLES\"]\n",
    "    assert all_prefixes(\"👨‍🦱\") == [\"\", \"👨\", \"👨\\u200d\", \"👨\\u200d🦱\"]\n",
    "    assert all_prefixes(\"\") == [\"\"]\n",
    "    print(\"==== Test OK ====\")"
   ]
  },
  {
   "cell_type": "markdown",
   "metadata": {
    "tags": []
   },
   "source": [
    "## ข้อย่อยที่ 3.2: หา Prefix ร่วมที่ยาวที่สุดของสตริงสองสาย\n",
    "\n",
    "จงเติมฟังก์ชัน `longest_common_prefix` ให้สมบูรณ์ เพื่อคำนวณหา Prefix ร่วมที่ยาวที่สุด\n",
    "\n",
    "#### อินพุตของฟังก์ชัน\n",
    "\n",
    "- `s1`: สตริงอันที่หนึ่ง\n",
    "- `s2`: สตริงอันที่สอง\n",
    "\n",
    "#### ฟังก์ชันรีเทิร์นค่า\n",
    "\n",
    "- Prefix ร่วมที่ยาวที่สุดของทั้ง `s1` และ `s2`\n",
    "\n",
    "#### ตัวอย่างอินพุตและค่าที่ต้องรีเทิร์น\n",
    "\n",
    "| `s1` | `s2` | ค่าที่รีเทิร์น |\n",
    "|------|------|-----------------|\n",
    "| `\"dolphin\"` | `\"dog\"` | `\"do\"` |\n",
    "| `\"dog\"` | `\"cat\"` | `\"\"` |\n",
    "| `\"ant\"` | `\"anteater\"` | `\"ant\"` |"
   ]
  },
  {
   "cell_type": "code",
   "execution_count": null,
   "metadata": {
    "tags": []
   },
   "outputs": [],
   "source": [
    "def longest_common_prefix(s1: str, s2: str) -> str:\n",
    "    # เขียนโค้ดของคุณตรงนี้\n",
    "    ..."
   ]
  },
  {
   "cell_type": "code",
   "execution_count": null,
   "metadata": {
    "tags": []
   },
   "outputs": [],
   "source": [
    "%%ipytest -qqs\n",
    "def test_longest_common_prefix():\n",
    "    assert longest_common_prefix(\"dolphin\", \"dog\") == \"do\"\n",
    "    assert longest_common_prefix(\"dog\", \"cat\") == \"\"\n",
    "    assert longest_common_prefix(\"anteater\", \"ant\") == \"ant\"\n",
    "    assert longest_common_prefix(\"ant\", \"anteater\") == \"ant\"\n",
    "    assert longest_common_prefix(\"\", \"\") == \"\"\n",
    "    print(\"==== Test OK ====\")"
   ]
  },
  {
   "cell_type": "markdown",
   "metadata": {
    "tags": []
   },
   "source": [
    "# โจทย์ปัญหาที่ 4: ปรากฎเพียงครั้งเดียว\n",
    "\n",
    "จงเติมฟังก์ชัน `appear_once` ให้สมบูรณ์ เพื่อคำนวณหาจำนวนเต็มที่ปรากฏในลิสต์ที่เป็นอินพุตเพียงครั้งเดียวเท่านั้น\n",
    "\n",
    "#### อินพุตของฟังก์ชัน\n",
    "\n",
    "- `numbers`: ลิสต์ของจำนวนเต็มที่ต้องพิจารณา\n",
    "\n",
    "#### ฟังก์ชันรีเทิร์นค่า\n",
    "\n",
    "- เซตของจำนวนเต็มทั้งหมดที่ปรากฏใน `numbers` เพียงครั้งเดียวพอดี\n",
    "\n",
    "#### คำใบ้และข้อมูลเพิ่มเติม\n",
    "\n",
    "- [Documentation ของประเภทข้อมูล `set`](https://docs.python.org/3/tutorial/datastructures.html#sets)\n",
    "- [Documentation ของประเภทข้อมูล `dict`](https://docs.python.org/3/tutorial/datastructures.html#dictionaries)"
   ]
  },
  {
   "cell_type": "code",
   "execution_count": null,
   "metadata": {},
   "outputs": [],
   "source": [
    "def appear_once(numbers: list[int]) -> set[int]:\n",
    "    # เขียนโค้ดของคุณตรงนี้\n",
    "    ..."
   ]
  },
  {
   "cell_type": "code",
   "execution_count": null,
   "metadata": {},
   "outputs": [],
   "source": [
    "%%ipytest -qqs\n",
    "def test_appear_once():\n",
    "    assert appear_once([1, 2, 3, 4, 5, 3, 6, 4, 8]) == {1, 2, 5, 6, 8}\n",
    "    assert appear_once([1, 3, 5, 7, 9]) == {1, 3, 5, 7, 9}\n",
    "    assert appear_once([1, 1, 2, 2, 3, 3, 3]) == set()\n",
    "    assert appear_once([]) == set()\n",
    "    print(\"==== Test OK ====\")"
   ]
  },
  {
   "cell_type": "markdown",
   "metadata": {
    "tags": []
   },
   "source": [
    "# โจทย์ปัญหาที่ 5: สร้างอาร์เรย์สองมิติ ที่นับเลขเรียงตามคอลัมน์เป็นหลัก\n",
    "\n",
    "จงเติมฟังก์ชัน `create_enumerate_array` ให้สมบูรณ์ เพื่อสร้างอาร์เรย์ NumPy สองมิติที่จะ $R$ แถวและ $C$ คอลัมน์  \n",
    "และสมาชิกแต่ละตัวคือ $1, 2, 3, \\ldots, RC$ เรียงทีละคอลัมน์จากจากบนล่าง และเรียงจากซ้ายไปขวา (โปรดดูเทสเคสประกอบ)\n",
    "\n",
    "#### อินพุตของฟังก์ชัน\n",
    "\n",
    "- `nrows`: จำนวนแถวที่ต้องการ\n",
    "- `ncols`: จำนวนคอลัมน์ที่ต้องการ\n",
    "\n",
    "#### ฟังก์ชันรีเทิร์นค่า\n",
    "\n",
    "- อาร์เรย์ที่มีรูปร่าง `(nrows, ncols)` และมีการจัดเรียงค่าของสมาชิกแต่ละตัวตามที่ระบุข้างต้น\n",
    "\n",
    "#### คำใบ้และข้อมูลเพิ่มเติม\n",
    "\n",
    "- [Documentation ของ `numpy.arange`](https://numpy.org/doc/stable/reference/generated/numpy.arange.html)\n",
    "- [Documentation ของ `numpy.reshape`](https://numpy.org/doc/stable/reference/generated/numpy.reshape.html)\n",
    "- [Documentation ของ `numpy.transpose`](https://numpy.org/doc/stable/reference/generated/numpy.transpose.html)"
   ]
  },
  {
   "cell_type": "code",
   "execution_count": null,
   "metadata": {},
   "outputs": [],
   "source": [
    "def create_enumerate_array(nrows: int, ncols: int) -> np.ndarray:\n",
    "    assert nrows > 0\n",
    "    assert ncols > 0\n",
    "    # เขียนโค้ดของคุณตรงนี้\n",
    "    ..."
   ]
  },
  {
   "cell_type": "code",
   "execution_count": null,
   "metadata": {},
   "outputs": [],
   "source": [
    "%%ipytest -qqs\n",
    "def test_create_enumerate_array():\n",
    "    np.testing.assert_array_equal(\n",
    "        create_enumerate_array(2, 3), \n",
    "        np.array([[1, 3, 5],\n",
    "                  [2, 4, 6]]),\n",
    "    )\n",
    "    np.testing.assert_array_equal(\n",
    "        create_enumerate_array(3, 2), \n",
    "        np.array([[1, 4],\n",
    "                  [2, 5],\n",
    "                  [3, 6]]),\n",
    "    )\n",
    "    np.testing.assert_array_equal(\n",
    "        create_enumerate_array(1, 1),\n",
    "        np.array([[1]]),\n",
    "    )\n",
    "    print(\"==== Test OK ====\")"
   ]
  },
  {
   "cell_type": "markdown",
   "metadata": {
    "tags": []
   },
   "source": [
    "# โจทย์ปัญหาที่ 6: สร้างอาร์เรย์เพื่อใช้ในการหมุนบนระนาบสองมิติ\n",
    "\n",
    "กำหนดให้ $p = (x, y)$ เป็นจุดในระนาบสองมิติ\n",
    "หากเราต้องการขยับจุดดังกล่าวด้วยกันหมุนรอบจุด $(0, 0)$ โดยทำมุม $\\theta$ องศาในทิศทวนเข็มนาฬิกา\n",
    "แล้วเราจะได้จุดใหม่ชื่อว่า $p^* = (x^*, y^*)$ ที่สอดคล้องกับสมการต่อไปนี้\n",
    "\n",
    "$$\n",
    "    \\left[\\matrix{x' \\\\ y'}\\right] \n",
    "    = \\left[\\matrix{\\cos\\theta & -\\sin\\theta \\\\ \\sin\\theta & \\cos\\theta}\\right]\n",
    "      \\left[\\matrix{x \\\\ y}\\right]\n",
    "$$\n",
    "\n",
    "(ทางขวามือของเครื่องหมายเท่ากับ คือการคูณเมตริกซ์ขนาด $2 \\times 2$ กับเวกเตอร์ความยาว $2$)\n",
    "\n",
    "จงเติมฟังก์ชัน `rotate_point` ให้สมบูรณ์ เพื่อคำนวณผลลัพธ์จากการหมุนจุดที่กำหนดให้ ด้วยองศาที่กำหนดให้\n",
    "\n",
    "#### อินพุตของฟังก์ชัน\n",
    "\n",
    "- `point`: อาร์เรย์ที่มีรูปร่าง $(2,)$ ซึ่งประกอบด้วยพิกัด $x$ และ $y$ ของจุดดั้งเดิม\n",
    "- `angle`: องศาที่หมุนจุดรอบจุด $(0, 0)$ ในทิศทวนเข็มนาฬิกา\n",
    "\n",
    "#### ฟังก์ชันรีเทิร์นค่า\n",
    "\n",
    "- อาร์เรย์ที่มีรูปร่าง $(2,)$ ระบุพิกัด $x$ และ $y$ ของจุดที่หมุนแล้ว\n",
    "\n",
    "#### คำใบ้และข้อมูลเพิ่มเติม\n",
    "\n",
    "- [Documentation ของ `numpy.deg2rad`](https://numpy.org/doc/stable/reference/generated/numpy.deg2rad.html)\n",
    "- [Documentation ของ `numpy.sin`](https://numpy.org/doc/stable/reference/generated/numpy.sin.html)\n",
    "- [Documentation ของ `numpy.cos`](https://numpy.org/doc/stable/reference/generated/numpy.cos.html)\n",
    "- [Documentation ของ `numpy.dot`](https://numpy.org/doc/stable/reference/generated/numpy.dot.html) (อาจจะใช้หรือไม่ก็ได้)\n",
    "- [Documentation ของ `numpy.matmul`](https://numpy.org/doc/stable/reference/generated/numpy.matmul.html) (อาจจะใช้หรือไม่ก็ได้)"
   ]
  },
  {
   "cell_type": "code",
   "execution_count": null,
   "metadata": {},
   "outputs": [],
   "source": [
    "def rotate_point(point: np.ndarray, angle: float) -> np.ndarray:\n",
    "    # มีการเขียนโค้ดไว้ให้บางส่วนแล้ว จะแก้ไขเฉพาะบางส่วน หรือทั้งหมดก็ได้\n",
    "    # 1. คำนวณหาค่า sine ของ cosine ของมุม angle\n",
    "    sin_val = ...\n",
    "    cos_val = ...\n",
    "    # 2. สร้างเมตริกซ์การหมุนขนาด 2 x 2\n",
    "    rotate_matrix = ...\n",
    "    # 3. คูณเมตริกซ์กับเวกเตอร์ของจุด\n",
    "    new_point = ...\n",
    "    return new_point"
   ]
  },
  {
   "cell_type": "code",
   "execution_count": null,
   "metadata": {},
   "outputs": [],
   "source": [
    "%%ipytest -qqs\n",
    "def test_rotate_point():\n",
    "    np.testing.assert_allclose(\n",
    "        rotate_point(np.array([1, 2]), 90), \n",
    "        np.array([-2, 1]),\n",
    "    )\n",
    "    np.testing.assert_allclose(\n",
    "        rotate_point(np.array([-4, 1]), -45), \n",
    "        np.array([-2.121320343559643, 3.5355339059327373]),\n",
    "    )\n",
    "    np.testing.assert_allclose(\n",
    "        rotate_point(np.array([7.25, -4.75]), 108), \n",
    "        np.array([2.2771452431836114, 8.362990466420865]),\n",
    "    )\n",
    "    np.testing.assert_allclose(\n",
    "        rotate_point(np.array([-12, -16]), -143.13010235415598), \n",
    "        np.array([0, 20]),\n",
    "        atol=1e-9,\n",
    "    )\n",
    "    np.testing.assert_allclose(\n",
    "        rotate_point(np.array([3, -6]), 0), \n",
    "        np.array([3, -6]),\n",
    "    )\n",
    "    np.testing.assert_allclose(\n",
    "        rotate_point(np.array([-8, 4]), 360), \n",
    "        np.array([-8, 4]),\n",
    "    )\n",
    "    np.testing.assert_allclose(\n",
    "        rotate_point(np.array([0, 0]), 17.29), \n",
    "        np.array([0, 0]),\n",
    "        atol=1e-9,\n",
    "    )\n",
    "    print(\"==== Test OK ====\")"
   ]
  },
  {
   "cell_type": "markdown",
   "metadata": {
    "tags": []
   },
   "source": [
    "# โจทย์ปัญหาที่ 7: ลบคอลัมน์ที่ผลรวมเป็นลบทิ้ง\n",
    "\n",
    "จงเติมฟังก์ชัน `remove_neg_sum_cols` ให้สมบูรณ์ ซึ่งรับอาร์เรย์สองมิติเป็นอินพุต\n",
    "จากนั้นลบทุกคอลัมน์ที่มีผลรวมเป็นลบทิ้ง แล้วจึงคืนผลลัพธ์ออกมาเป็นอาร์เรย์ใหม่จากฟังก์ชัน\n",
    "\n",
    "#### อินพุตของฟังก์ชัน\n",
    "\n",
    "- `array`: อาร์เรย์สองมิติ\n",
    "\n",
    "#### ฟังก์ชันรีเทิร์นค่า\n",
    "\n",
    "- อาร์เรย์ใหม่ที่เกิดจากการนำอาร์เรย์ที่เป็นอินพุดมาประมวลผล ด้วยการลบคอลัมน์ที่มีผลรวมเป็นลบทิ้ง\n",
    "  พึงระวังว่าอาร์เรย์ที่รีเทิร์นอาจจะมี 0 คอลัมน์ก็ได้ ทั้งนี้จำนวนของแถวจะไม่มีทางเปลี่ยนแปลง\n",
    "\n",
    "#### คำใบ้และข้อมูลเพิ่มเติม\n",
    "\n",
    "- [Documentation ของ `numpy.ndarray.sum`](https://numpy.org/doc/stable/reference/generated/numpy.ndarray.sum.html)\n",
    "- [Documentation ที่เกี่ยวของกับ NumPy indexing](https://numpy.org/doc/stable/user/basics.indexing.html)"
   ]
  },
  {
   "cell_type": "code",
   "execution_count": null,
   "metadata": {},
   "outputs": [],
   "source": [
    "def remove_neg_sum_cols(array: np.ndarray) -> np.ndarray:\n",
    "    # เขียนโค้ดของคุณตรงนี้\n",
    "    ..."
   ]
  },
  {
   "cell_type": "code",
   "execution_count": null,
   "metadata": {},
   "outputs": [],
   "source": [
    "%%ipytest -qqs\n",
    "def test_remove_neg_sum_cols():\n",
    "    np.testing.assert_equal(\n",
    "        remove_neg_sum_cols(np.array([\n",
    "            [ 3,  2, -6, -3, -6],\n",
    "            [-3, -5,  1,  3, -5],\n",
    "            [ 3,  2,  2, -1,  2],\n",
    "            [-3,  1, -5, -1, -3],\n",
    "        ])),\n",
    "        np.array([\n",
    "            [ 3,  2],\n",
    "            [-3, -5],\n",
    "            [ 3,  2],\n",
    "            [-3,  1],\n",
    "        ]),\n",
    "    )\n",
    "    np.testing.assert_equal(\n",
    "        remove_neg_sum_cols(np.array([\n",
    "            [ -5, -12,  -9,  -6],\n",
    "            [-15,   2,   2,  -9],\n",
    "            [-11,  -7, -15,   4],\n",
    "        ])),\n",
    "        np.array([[], [], []]),\n",
    "    )\n",
    "    np.testing.assert_equal(\n",
    "        remove_neg_sum_cols(np.array([\n",
    "            [ 0,  3,  3,  1],\n",
    "            [ 4,  0,  3, -2],\n",
    "            [-1,  2,  4,  3],\n",
    "        ])),\n",
    "        np.array([\n",
    "            [ 0,  3,  3,  1],\n",
    "            [ 4,  0,  3, -2],\n",
    "            [-1,  2,  4,  3],\n",
    "        ]),\n",
    "    )\n",
    "    np.testing.assert_equal(\n",
    "        remove_neg_sum_cols(np.array([\n",
    "            [ 7,  2, -6],\n",
    "            [ 3, -8, -4],\n",
    "            [-4, -9, -4],\n",
    "            [-6, 13, 15],\n",
    "        ])),\n",
    "        np.array([\n",
    "            [ 7, -6],\n",
    "            [ 3, -4],\n",
    "            [-4, -4],\n",
    "            [-6, 15],\n",
    "        ]),\n",
    "    )\n",
    "    print(\"==== Test OK ====\")"
   ]
  },
  {
   "cell_type": "markdown",
   "metadata": {
    "tags": []
   },
   "source": [
    "# โจทย์ปัญหาที่ 8: ลบค่าทุกตัวด้วยจำนวนที่น้อยที่สุดในแต่ละแถวนั้น ๆ\n",
    "\n",
    "จงเติมฟังก์ชัน `subtract_by_row_min` ให้สมบูรณ์ ซึ่งรับอาร์เรย์สองมิติเป็นอินพุต\n",
    "จากนั้นลบค่าทุกค่าในอาร์เรย์นั้น ๆ ด้วยค่าที่น้อยที่สุดที่อยู่ในแถวเดียวกัน แล้วจึงคืนผลลัพธ์ออกมาเป็นอาร์เรย์ใหม่จากฟังก์ชัน\n",
    "\n",
    "#### อินพุตของฟังก์ชัน\n",
    "\n",
    "- `array`: อาร์เรย์สองมิติ\n",
    "\n",
    "#### ฟังก์ชันรีเทิร์นค่า\n",
    "\n",
    "- อาร์เรย์ใหม่ที่เกิดจากการนำอาร์เรย์ที่เป็นอินพุดมาประมวลผล ด้วยการลบค่าสมาชิกทุกตัวในอาร์เรย์\n",
    "  ด้วยค่าที่น้อยที่สุดในปรากฏในแถวเดียวกัน\n",
    "\n",
    "#### คำใบ้และข้อมูลเพิ่มเติม\n",
    "\n",
    "- [Documentation ของ `numpy.ndarray.min`](https://numpy.org/doc/stable/reference/generated/numpy.ndarray.min.html)\n",
    "- [Documentation ของ `numpy.expand_dims`](https://numpy.org/doc/stable/reference/generated/numpy.expand_dims.html) (อาจจะใช้หรือไม่ก็ได้)\n",
    "- [Documentation ของ `numpy.newaxis`](https://numpy.org/doc/stable/reference/constants.html#numpy.newaxis) (อาจจะใช้หรือไม่ก็ได้)"
   ]
  },
  {
   "cell_type": "code",
   "execution_count": null,
   "metadata": {},
   "outputs": [],
   "source": [
    "def subtract_by_row_min(array: np.ndarray) -> np.ndarray:\n",
    "    # เขียนโค้ดของคุณตรงนี้\n",
    "    ..."
   ]
  },
  {
   "cell_type": "code",
   "execution_count": null,
   "metadata": {},
   "outputs": [],
   "source": [
    "%%ipytest -qqs\n",
    "def test_subtract_by_row_min():\n",
    "    np.testing.assert_equal(\n",
    "        subtract_by_row_min(np.array([\n",
    "            [ 48,  54,  79, -22, -23],\n",
    "            [-72, -39,  45, -21, -53],\n",
    "            [100,  62, -74,   0,  95],\n",
    "            [ 99,  -2,  58,  12,  60],\n",
    "        ])),\n",
    "        np.array([\n",
    "            [ 71,  77, 102,   1,   0],\n",
    "            [  0,  33, 117,  51,  19],\n",
    "            [174, 136,   0,  74, 169],\n",
    "            [101,   0,  60,  14,  62],\n",
    "        ]),\n",
    "    )\n",
    "    np.testing.assert_equal(\n",
    "        subtract_by_row_min(np.array([\n",
    "            [16, 70, 24, -9],\n",
    "            [90, 76, 49, 91],\n",
    "            [65, 72, 80, 55],\n",
    "        ])),\n",
    "        np.array([\n",
    "            [25, 79, 33,  0],\n",
    "            [41, 27,  0, 42],\n",
    "            [10, 17, 25,  0],\n",
    "        ]),\n",
    "    )\n",
    "    np.testing.assert_equal(\n",
    "        subtract_by_row_min(np.array([\n",
    "            [241, 319, 241],\n",
    "            [254, 266, 118],\n",
    "        ])),\n",
    "        np.array([\n",
    "            [  0,  78,   0],\n",
    "            [136, 148,   0],\n",
    "        ]),\n",
    "    )\n",
    "    print(\"==== Test OK ====\")"
   ]
  },
  {
   "cell_type": "markdown",
   "metadata": {},
   "source": [
    "# ข้อมูลงานกีฬาสีของนักเรียนมัธยม\n",
    "\n",
    "สำหรับโจทย์ปัญหาข้อที่ 9-12 เราจะสนใจข้อมูลสถิติการแข่งกีฬาของโรงเรียนแห่งหนึ่ง ซึ่งมีคอลัมน์ดังต่อไปนี้\n",
    "\n",
    "- `first_name`: ชื่อต้น\n",
    "- `last_name`: นามสกุล\n",
    "- `class`: ชั้นเรียน มีค่าตั้งแต่ 7 ถึง 12\n",
    "- `team_color`: ทีมกีฬาสีจากทั้งหมด 4 ทีม\n",
    "- `100m_running_sec`: เวลาที่ใช้วิ่งระยะ 100 เมตร ในหน่วยวินาที\n",
    "- `minigolf_strokes`: จำนวนสโตร์กในกีฬามินิกอล์ฟ\n",
    "- `high_jump_cm`: ความสูงที่กระโดดได้ในกีฬากระโดดสูง ในหน่วยเซนติเมตร\n",
    "- `bowling_score`: คะแนนที่ได้จากการเล่นเกมโบว์ลิ่ง"
   ]
  },
  {
   "cell_type": "code",
   "execution_count": null,
   "metadata": {},
   "outputs": [],
   "source": [
    "%%ipytest -qqs\n",
    "SPORTSDAY_DF = pd.read_csv('sportsday.csv')  # โหลดข้อมูลจากไฟล์\n",
    "display(SPORTSDAY_DF.head(10))  # ตัวอย่างข้อมูล 10 แถวแรก\n",
    "display(SPORTSDAY_DF.tail(10))  # ตัวอย่างข้อมูล 10 แถวสุดท้าย"
   ]
  },
  {
   "cell_type": "markdown",
   "metadata": {},
   "source": [
    "# โจทย์ปัญหาที่ 9: นามสกุลที่โหลที่สุด\n",
    "\n",
    "จงเติมฟังก์ชัน `common_last_name` ให้สมบูรณ์ ซึ่งรับข้อมูลตารางสถิติการแข่งกีฬา (ตามโครงสร้างที่ระบุข้างต้น)  \n",
    "แล้วคำนวณว่านามสกุลที่พบได้บ่อยที่สุดในตารางดังกล่าว มีทั้งสิ้นกี่คน\n",
    "\n",
    "#### อินพุตของฟังก์ชัน\n",
    "\n",
    "- `df`: ข้อมูลสถิติกีฬาจากงานกีฬาสี\n",
    "\n",
    "#### ฟังก์ชันรีเทิร์นค่า\n",
    "\n",
    "- จำนวนคนที่มากที่สุดที่ใช้นามสกุลเดียวกัน\n",
    "\n",
    "#### คำใบ้และข้อมูลเพิ่มเติม\n",
    "\n",
    "- เลือกเฉพาะคอลัมน์ `last_name`\n",
    "- [Documentation ของ `pandas.Series.value_counts`](https://pandas.pydata.org/docs/reference/api/pandas.Series.value_counts.html)\n",
    "- อาจต้องเรียกใช้ฟังก์ชันอื่นเพิ่มอีก"
   ]
  },
  {
   "cell_type": "code",
   "execution_count": null,
   "metadata": {},
   "outputs": [],
   "source": [
    "def common_last_name(df: pd.DataFrame) -> str:\n",
    "    # เขียนโค้ดของคุณตรงนี้\n",
    "    ..."
   ]
  },
  {
   "cell_type": "code",
   "execution_count": null,
   "metadata": {},
   "outputs": [],
   "source": [
    "%%ipytest -qqs\n",
    "def test_common_last_name():\n",
    "    assert common_last_name(SPORTSDAY_DF) == 8\n",
    "    assert common_last_name(SPORTSDAY_DF[SPORTSDAY_DF.team_color == 'salmon_red']) == 4\n",
    "    assert common_last_name(SPORTSDAY_DF[SPORTSDAY_DF['class'] == 7]) == 3\n",
    "    print(\"==== Test OK ====\")"
   ]
  },
  {
   "cell_type": "markdown",
   "metadata": {},
   "source": [
    "# โจทย์ปัญหาที่ 10: นักวิ่งลมกรดประจำทีม\n",
    "\n",
    "จงเติมฟังก์ชัน `fast_runners` ให้สมบูรณ์ ซึ่งรับข้อมูลตารางสถิติการแข่งกีฬา (ตามโครงสร้างที่ระบุข้างต้น)  \n",
    "แล้วให้กรองคัดเลือกแถวข้อมูลเฉพาะทีมที่กำหนด และสามารถวิ่งระยะ 100 เมตรภายในระยะเวลาที่กำหนด\n",
    "\n",
    "#### อินพุตของฟังก์ชัน\n",
    "\n",
    "- `df`: ข้อมูลสถิติกีฬาจากงานกีฬาสี\n",
    "- `team_color`: ชื่อทีมกีฬาสี\n",
    "- `max_running_time`: เกณฑ์เวลาที่ใช้วิ่งในระยะ 100 เมตร\n",
    "\n",
    "#### ฟังก์ชันรีเทิร์นค่า\n",
    "\n",
    "- ตารางใหม่ที่เกิดจากการกรองคัดเฉพาะคนที่มีคุณสมบัติตามที่กำหนดข้างต้น\n",
    "\n",
    "#### คำใบ้และข้อมูลเพิ่มเติม\n",
    "\n",
    "- [Documentation ของการเลือกข้อมูลเฉพาะแถวที่ต้องการ](https://pandas.pydata.org/docs/user_guide/indexing.html)"
   ]
  },
  {
   "cell_type": "code",
   "execution_count": null,
   "metadata": {},
   "outputs": [],
   "source": [
    "def fast_runners(df: pd.DataFrame, team_color: str, max_running_time: float) -> pd.DataFrame:\n",
    "    # เขียนโค้ดของคุณตรงนี้\n",
    "    ..."
   ]
  },
  {
   "cell_type": "code",
   "execution_count": null,
   "metadata": {},
   "outputs": [],
   "source": [
    "%%ipytest -qqs\n",
    "def test_fast_runners():\n",
    "    result = fast_runners(SPORTSDAY_DF, 'salmon_red', 12.0)\n",
    "    pd.testing.assert_index_equal(result.columns, SPORTSDAY_DF.columns)\n",
    "    assert set(result[['first_name', 'last_name']].itertuples(index=False, name=None)) == {\n",
    "        ('Angela', 'Williams'),\n",
    "        ('Emily', 'Flores'),\n",
    "        ('Gary', 'Martinez'),\n",
    "        ('Jason', 'Scott'),\n",
    "        ('Justin', 'Lopez'),\n",
    "    }\n",
    "    \n",
    "    result = fast_runners(SPORTSDAY_DF, 'caterpillar_green', 11.5)\n",
    "    pd.testing.assert_index_equal(result.columns, SPORTSDAY_DF.columns)\n",
    "    assert set(result[['first_name', 'last_name']].itertuples(index=False, name=None)) == {\n",
    "        ('Daniel', 'Rodriguez'), \n",
    "        ('Kathleen', 'Edwards'), \n",
    "        ('Linda', 'Turner'),\n",
    "    }\n",
    "    \n",
    "    result = fast_runners(SPORTSDAY_DF, 'whale_blue', 11.0)\n",
    "    pd.testing.assert_index_equal(result.columns, SPORTSDAY_DF.columns)\n",
    "    assert set(result[['first_name', 'last_name']].itertuples(index=False, name=None)) == set()\n",
    "    \n",
    "    print(\"==== Test OK ====\")"
   ]
  },
  {
   "cell_type": "markdown",
   "metadata": {},
   "source": [
    "# โจทย์ปัญหาที่ 11: สถิติโบวลิ่งและมินิกอล์ฟประจำชั้น\n",
    "\n",
    "จงเติมฟังก์ชัน `best_bowling_and_minigolf` ให้สมบูรณ์ ซึ่งรับข้อมูลตารางสถิติการแข่งกีฬา (ตามโครงสร้างที่ระบุข้างต้น)  \n",
    "แล้วคำนวณว่าสถิติคะแนนโบว์ลิ่งที่ดีที่สุด (มากที่สุด) และคะแนนมินิกอล์ฟที่ดีที่สุด (น้อยที่สุด) ประจำชั้นที่กำหนดให้ มีค่าเท่าใดบ้าง\n",
    "\n",
    "#### อินพุตของฟังก์ชัน\n",
    "\n",
    "- `df`: ข้อมูลสถิติกีฬาจากงานกีฬาสี\n",
    "- `class_no`: ระดับชั้นเรียน (มีค่าตั้งแต่ 7 ถึง 12)\n",
    "\n",
    "#### ฟังก์ชันรีเทิร์นค่า\n",
    "\n",
    "- ทูเปิลประกอบด้วยค่าสองค่า ได้แก่คะแนนโบว์ลิ่งที่มากที่สุด ตามด้วยคะแนนมินิกอล์ฟที่น่้่อยที่สุด\n",
    "\n",
    "#### คำใบ้และข้อมูลเพิ่มเติม\n",
    "\n",
    "- [Documentation ของการคำนวณค่าทางสถิติเบื้องต้น](https://pandas.pydata.org/docs/user_guide/basics.html#descriptive-statistics)"
   ]
  },
  {
   "cell_type": "code",
   "execution_count": null,
   "metadata": {},
   "outputs": [],
   "source": [
    "def best_bowling_and_minigolf(df: pd.DataFrame, class_no: int) -> tuple[float, float]:\n",
    "    # เขียนโค้ดของคุณตรงนี้\n",
    "    ..."
   ]
  },
  {
   "cell_type": "code",
   "execution_count": null,
   "metadata": {},
   "outputs": [],
   "source": [
    "%%ipytest -qqs\n",
    "def test_best_bowling_and_minigolf():\n",
    "    assert best_bowling_and_minigolf(SPORTSDAY_DF, 8) == (291, 18)\n",
    "    assert best_bowling_and_minigolf(SPORTSDAY_DF, 10) == (284, 21)\n",
    "    assert best_bowling_and_minigolf(SPORTSDAY_DF, 12) == (300, 18)\n",
    "    print(\"==== Test OK ====\")"
   ]
  },
  {
   "cell_type": "markdown",
   "metadata": {},
   "source": [
    "# โจทย์ปัญหาที่ 12: ค่าเฉลี่ยการกระโดดสูง\n",
    "\n",
    "จงเติมฟังก์ชัน `highjump_averages` ให้สมบูรณ์ ซึ่งรับข้อมูลตารางสถิติการแข่งกีฬา (ตามโครงสร้างที่ระบุข้างต้น)  \n",
    "แล้วคำนวณหาค่าเฉลี่ยของการกระโดดสูงสำหรับทีมแต่ละทีม\n",
    "\n",
    "#### อินพุตของฟังก์ชัน\n",
    "\n",
    "- `df`: ข้อมูลสถิติกีฬาจากงานกีฬาสี\n",
    "\n",
    "#### ฟังก์ชันรีเทิร์นค่า\n",
    "\n",
    "- ข้อมูลซีรีส์ใหม่ที่มีค่าดัชนีเป็นทีมทั้งหมดในการแข่งกีฬา และมีค่าเป็นค่าเฉลี่ยของความสูงของการกระโดดสูงสำหรับแต่ละทีมนั้น ๆ\n",
    "\n",
    "#### คำใบ้และข้อมูลเพิ่มเติม\n",
    "\n",
    "- [Documentation ของการจัดกลุ่มข้อมูล](https://pandas.pydata.org/docs/user_guide/10min.html#grouping)"
   ]
  },
  {
   "cell_type": "code",
   "execution_count": null,
   "metadata": {},
   "outputs": [],
   "source": [
    "def highjump_averages(df: pd.DataFrame) -> pd.Series:\n",
    "    # เขียนโค้ดของคุณตรงนี้\n",
    "    ..."
   ]
  },
  {
   "cell_type": "code",
   "execution_count": null,
   "metadata": {
    "tags": []
   },
   "outputs": [],
   "source": [
    "%%ipytest -qqs\n",
    "def test_best_bowling_and_minigolf():\n",
    "    assert highjump_averages(SPORTSDAY_DF).to_dict() == approx({\n",
    "        'caterpillar_green': 93.21265306122449,\n",
    "        'duckling_yellow': 98.88854166666665,\n",
    "        'salmon_red': 89.11403846153847,\n",
    "        'whale_blue': 93.18333333333334,\n",
    "    })\n",
    "    assert highjump_averages(SPORTSDAY_DF[SPORTSDAY_DF['class'] == 9]).to_dict() == approx({\n",
    "        'caterpillar_green': 103.64555555555555,\n",
    "        'duckling_yellow': 100.98625,\n",
    "        'salmon_red': 83.57,\n",
    "        'whale_blue': 90.29,\n",
    "    })\n",
    "    assert highjump_averages(SPORTSDAY_DF[SPORTSDAY_DF['class'].isin([7, 11])]).to_dict() == approx({\n",
    "        'caterpillar_green': 87.44583333333333,\n",
    "        'duckling_yellow': 101.9042105263158,\n",
    "        'salmon_red': 90.19999999999999,\n",
    "        'whale_blue': 96.38307692307693,\n",
    "    })\n",
    "    print(\"==== Test OK ====\")"
   ]
  },
  {
   "cell_type": "code",
   "execution_count": null,
   "metadata": {},
   "outputs": [],
   "source": []
  }
 ],
 "metadata": {
  "kernelspec": {
   "display_name": "Python 3 (ipykernel)",
   "language": "python",
   "name": "python3"
  },
  "language_info": {
   "codemirror_mode": {
    "name": "ipython",
    "version": 3
   },
   "file_extension": ".py",
   "mimetype": "text/x-python",
   "name": "python",
   "nbconvert_exporter": "python",
   "pygments_lexer": "ipython3",
   "version": "3.7.12"
  },
  "toc-showmarkdowntxt": false
 },
 "nbformat": 4,
 "nbformat_minor": 4
}
