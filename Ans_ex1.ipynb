{
  "cells": [
    {
      "cell_type": "code",
      "execution_count": null,
      "metadata": {
        "id": "1e0canp8aEZR"
      },
      "outputs": [],
      "source": [
        "# กรุณารันเซลล์นี้หากคุณใช้งาน Google Colab เพื่อทำข้อสอบ\n",
        "!pip install -U pip\n",
        "!pip install -U datascience ipytest rich\n",
        "!wget https://raw.githubusercontent.com/ai-builders/entrance-exam-2022/main/sportsday.csv"
      ]
    },
    {
      "cell_type": "code",
      "execution_count": null,
      "metadata": {
        "tags": [],
        "id": "qbIKJDkJaEZT"
      },
      "outputs": [],
      "source": [
        "# กรุณารันเซลลืนี้ โดยไม่ต้องแก้ไขโค้ดใด ๆ ทั้งสิ้น\n",
        "from __future__ import annotations\n",
        "\n",
        "import math\n",
        "\n",
        "import ipytest\n",
        "import numpy as np\n",
        "import pandas as pd\n",
        "from pytest import approx\n",
        "\n",
        "ipytest.autoconfig()"
      ]
    },
    {
      "cell_type": "markdown",
      "metadata": {
        "tags": [],
        "id": "6L-v_41yaEZU"
      },
      "source": [
        "# แบบฝึกหัดที่ 1\n",
        "\n",
        "จงเขียนโปรแกรม python โดยแปลงค่าจาก Km เป็น Mile โดยก าหนดให้ 1 Km เท่ากับ 0.621371 Mile\n",
        "\n",
        " Enter the value in kilometers : 1\n",
        "\n",
        " The entered value in Miles: 0.621371"
      ]
    },
    {
      "cell_type": "code",
      "execution_count": 4,
      "metadata": {
        "id": "-cJV6iYzaEZW",
        "outputId": "a1fcad68-8602-423e-972b-577ae58fce56",
        "colab": {
          "base_uri": "https://localhost:8080/"
        }
      },
      "outputs": [
        {
          "output_type": "stream",
          "name": "stdout",
          "text": [
            "Enter the value in kilometers : 0.5\n",
            "The entered value in Miles:  0.3106855\n"
          ]
        }
      ],
      "source": [
        "\n",
        "    # เขียนโค้ดของคุณตรงนี้\n",
        "k = input(\"Enter the value in kilometers : \")\n",
        "m = float(k) * 0.621371\n",
        "print(\"The entered value in Miles: \" , m)"
      ]
    },
    {
      "cell_type": "markdown",
      "metadata": {
        "tags": [],
        "id": "C8l0z_3UaEZW"
      },
      "source": [
        "# แบบฝึกหัดที่ 2\n",
        "\n",
        "จงเขียนโปรแกรม python โดยกรอกข้อมูลตัวเลข 3 ค่า แล้วหแสดงผลค่าที่มีน้อยที่สุด\n",
        "\n",
        "Enter 1st number: 100\n",
        "\n",
        "Enter 2nd number: 50\n",
        "\n",
        "Enter 3rd number: 250\n",
        "\n",
        "The smallest number among 100 , 50 and 250 is: 50"
      ]
    },
    {
      "cell_type": "code",
      "execution_count": 6,
      "metadata": {
        "id": "lmbDzrLNaEZW",
        "outputId": "0767d05a-00f7-4201-e612-676d2d0ad1b3",
        "colab": {
          "base_uri": "https://localhost:8080/"
        }
      },
      "outputs": [
        {
          "name": "stdout",
          "output_type": "stream",
          "text": [
            "Enter 1st number: 100\n",
            "Enter 2nd number: 50\n",
            "Enter 3rd number: 250\n"
          ]
        }
      ],
      "source": [
        "\n",
        "    # เขียนโค้ดของคุณตรงนี้\n",
        "a = input(\"Enter 1st number: \")\n",
        "b = input(\"Enter 2nd number: \")\n",
        "c = input(\"Enter 3rd number: \")\n",
        "if a < b then a = a"
      ]
    },
    {
      "cell_type": "code",
      "execution_count": null,
      "metadata": {
        "id": "sUJC2BalaEZX"
      },
      "outputs": [],
      "source": [
        ""
      ]
    }
  ],
  "metadata": {
    "kernelspec": {
      "display_name": "Python 3 (ipykernel)",
      "language": "python",
      "name": "python3"
    },
    "language_info": {
      "codemirror_mode": {
        "name": "ipython",
        "version": 3
      },
      "file_extension": ".py",
      "mimetype": "text/x-python",
      "name": "python",
      "nbconvert_exporter": "python",
      "pygments_lexer": "ipython3",
      "version": "3.7.12"
    },
    "toc-showmarkdowntxt": false,
    "colab": {
      "name": "ex1.ipynb",
      "provenance": []
    }
  },
  "nbformat": 4,
  "nbformat_minor": 0
}