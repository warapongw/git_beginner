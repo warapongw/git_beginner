{
 "cells": [
  
 {
   "cell_type": "code",
   "execution_count": null,
   "metadata": {},
   "outputs": [],
   "source": [
    "# กรุณารันเซลล์นี้หากคุณใช้งาน Google Colab เพื่อทำข้อสอบ\n",
    "!pip install -U pip\n",
    "!pip install -U datascience ipytest rich\n",
    "!wget https://raw.githubusercontent.com/ai-builders/entrance-exam-2022/main/sportsday.csv"
   ]
  },
  {
   "cell_type": "code",
   "execution_count": null,
   "metadata": {
    "tags": []
   },
   "outputs": [],
   "source": [
    "# กรุณารันเซลลืนี้ โดยไม่ต้องแก้ไขโค้ดใด ๆ ทั้งสิ้น\n",
    "from __future__ import annotations\n",
    "\n",
    "import math\n",
    "\n",
    "import ipytest\n",
    "import numpy as np\n",
    "import pandas as pd\n",
    "from pytest import approx\n",
    "\n",
    "ipytest.autoconfig()"
   ]
  },  
  
  

  {
   "cell_type": "markdown",
   "metadata": {
    "tags": []
   },
   "source": [
    "# แบบฝึกหัดที่ 1\n",
    "\n",
    "เขียนโปรแกรม Python เพื่อค้นหาตัวเลขที่หารด้วย 7 และ  5 ลงตัว ระหว่างเลข 1500 ถึง 2700 (รวมทั้งสองอย่าง)\n",
  "\n",
  "คำตอบ : 1505,1540,1575,1610,1645,1680,1715,1750,1785,1820,1855,1890,1925,1960,1995,2030,2065,2100,2135,2170,2205,2240,2275,2310,2345,2380,2415,2450,2485,2520,2555,2590,2625,2660,2695"
   ]
  },
 
  
{
   "cell_type": "code",
   "execution_count": null,
   "metadata": {
    "tags": []
   },
   "outputs": [],
   "source": [
    "# Tip of the day\n",
    "def tips_union(x, y):\n",
    "    return list(set(x + y))\n",
    "\n",
    "print(tips_union([1, 2, 3, 4], [5, 3, 2]))"
   ]
  },  

 
  {
   "cell_type": "code",
   "execution_count": null,
   "metadata": {},
   "outputs": [],
   "source": [
   "\n",
    "    # เขียนโค้ดของคุณตรงนี้\n",
    "    ..."
   ]
  },
     
    {
   "cell_type": "markdown",
   "metadata": {
    "tags": []
   },
   "source": [
    "# แบบฝึกหัดที่ 2\n",
    "\n",
    "Write a Python program to construct the following pattern, using a nested for loop.\n",
  "\n",
  "0\n",
  "\n",
  "0 0\n",
  "\n",
  "0 0 0\n",
  "\n",
  "0 0 0 0\n",
  "\n",
  "0 0 0 0 0\n",    
  "\n",
  "0 0 0 0\n",
  "\n",
  "0 0 0\n",
  "\n",
  "0 0\n",
  "\n",
  "0\n",  
  "\n"  
   ]
  },
  
    {
   "cell_type": "code",
   "execution_count": null,
   "metadata": {},
   "outputs": [],
   "source": [
   "\n",
    "    # เขียนโค้ดของคุณตรงนี้\n",
    "    ..."
   ]
  },  
  
  
     
    {
   "cell_type": "markdown",
   "metadata": {
    "tags": []
   },
   "source": [
    "# แบบฝึกหัดที่ 2\n",
    "\n",
    "Write a Python program to construct the following pattern, using a nested for loop.\n",
  "\n",
  "0\n",
  "\n",
  "0 0\n",
  "\n",
  "0 0 0\n",
  "\n",
  "0 0 0 0\n",
  "\n",
  "0 0 0 0 0\n",    
  "\n",
  "0 0 0 0\n",
  "\n",
  "0 0 0\n",
  "\n",
  "0 0\n",
  "\n",
  "0\n",  
  "\n"  
   ]
  },
  
  
  
  
  
  
   
  {
   "cell_type": "code",
   "execution_count": null,
   "metadata": {},
   "outputs": [],
   "source": [
   "\n",
    "    # เขียนโค้ดของคุณตรงนี้\n",
    "    ..."
   ]
  },
  
  
  
  {
   "cell_type": "code",
   "execution_count": null,
   "metadata": {},
   "outputs": [],
   "source": []
  }
 ],
 "metadata": {
  "kernelspec": {
   "display_name": "Python 3 (ipykernel)",
   "language": "python",
   "name": "python3"
  },
  "language_info": {
   "codemirror_mode": {
    "name": "ipython",
    "version": 3
   },
   "file_extension": ".py",
   "mimetype": "text/x-python",
   "name": "python",
   "nbconvert_exporter": "python",
   "pygments_lexer": "ipython3",
   "version": "3.7.12"
  },
  "toc-showmarkdowntxt": false
 },
 "nbformat": 4,
 "nbformat_minor": 4
}
